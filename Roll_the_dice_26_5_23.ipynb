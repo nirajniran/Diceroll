{
  "nbformat": 4,
  "nbformat_minor": 0,
  "metadata": {
    "colab": {
      "provenance": []
    },
    "kernelspec": {
      "name": "python3",
      "display_name": "Python 3"
    },
    "language_info": {
      "name": "python"
    }
  },
  "cells": [
    {
      "cell_type": "code",
      "execution_count": 12,
      "metadata": {
        "colab": {
          "base_uri": "https://localhost:8080/"
        },
        "id": "qMinB60VLgGR",
        "outputId": "4f680264-c4f2-4881-8d27-bd585745fa62"
      },
      "outputs": [
        {
          "name": "stdout",
          "output_type": "stream",
          "text": [
            "1.roll the dice 2.exit\n",
            "What do you want to do\n",
            "1\n",
            "6\n",
            "1.roll the dice 2.exit\n",
            "What do you want to do\n",
            "1\n",
            "5\n",
            "1.roll the dice 2.exit\n",
            "What do you want to do\n",
            "1\n",
            "1\n",
            "1.roll the dice 2.exit\n",
            "What do you want to do\n",
            "2\n"
          ]
        }
      ],
      "source": [
        "import random\n",
        "while True:\n",
        "  print(\"1.roll the dice 2.exit\")\n",
        "  user=int(input(\"What do you want to do\\n\"))\n",
        "  if user==1:\n",
        "    number=random.randint(1,6)\n",
        "    print (number)\n",
        "  else:\n",
        "      break"
      ]
    }
  ]
}